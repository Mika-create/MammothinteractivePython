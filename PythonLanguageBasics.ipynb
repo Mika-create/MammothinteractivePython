{
  "nbformat": 4,
  "nbformat_minor": 0,
  "metadata": {
    "colab": {
      "provenance": [],
      "authorship_tag": "ABX9TyOtfFetRr03fabwXO0+EB+D",
      "include_colab_link": true
    },
    "kernelspec": {
      "name": "python3",
      "display_name": "Python 3"
    },
    "language_info": {
      "name": "python"
    }
  },
  "cells": [
    {
      "cell_type": "markdown",
      "metadata": {
        "id": "view-in-github",
        "colab_type": "text"
      },
      "source": [
        "<a href=\"https://colab.research.google.com/github/Mika-create/MammothinteractivePython/blob/main/PythonLanguageBasics.ipynb\" target=\"_parent\"><img src=\"https://colab.research.google.com/assets/colab-badge.svg\" alt=\"Open In Colab\"/></a>"
      ]
    },
    {
      "cell_type": "code",
      "source": [
        "is_game_over = False\n",
        "print(is_game_over)\n",
        "is_game_over = True\n",
        "print(is_game_over)\n",
        "is_game_over = 5 > 6\n",
        "print(is_game_over)"
      ],
      "metadata": {
        "colab": {
          "base_uri": "https://localhost:8080/"
        },
        "id": "iYKtnXjVaaCu",
        "outputId": "ade0fa5d-24ba-45de-9d75-78c53464ebc0"
      },
      "execution_count": null,
      "outputs": [
        {
          "output_type": "stream",
          "name": "stdout",
          "text": [
            "False\n",
            "True\n",
            "False\n"
          ]
        }
      ]
    },
    {
      "cell_type": "code",
      "source": [
        "num_lives = 5\n",
        "print(num_lives)\n",
        "percent_health = 0.5\n",
        "print(percent_health)"
      ],
      "metadata": {
        "colab": {
          "base_uri": "https://localhost:8080/"
        },
        "id": "P776gP-7GRCU",
        "outputId": "54b1edae-60a9-4f6e-a95c-ecf73483a662"
      },
      "execution_count": null,
      "outputs": [
        {
          "output_type": "stream",
          "name": "stdout",
          "text": [
            "5\n",
            "0.5\n"
          ]
        }
      ]
    },
    {
      "cell_type": "code",
      "source": [
        "player_name = \"Nimish\"\n",
        "print(player_name)\n",
        "player_name = \"Mammoth\"\n",
        "print(player_name)"
      ],
      "metadata": {
        "colab": {
          "base_uri": "https://localhost:8080/"
        },
        "id": "pKYgqkwpGzWI",
        "outputId": "57926021-00ce-49ab-8f13-093c753a1281"
      },
      "execution_count": null,
      "outputs": [
        {
          "output_type": "stream",
          "name": "stdout",
          "text": [
            "Nimish\n",
            "Mammoth\n"
          ]
        }
      ]
    },
    {
      "cell_type": "code",
      "source": [
        "print(type(is_game_over))\n",
        "print(type(num_lives))\n",
        "print(type(percent_health))\n",
        "print(type(player_name))\n",
        "\n",
        "num_lives = \"5\"\n",
        "print(type(num_lives))\n",
        "\n",
        "player_name = num_lives\n",
        "print(type(num_lives))"
      ],
      "metadata": {
        "colab": {
          "base_uri": "https://localhost:8080/"
        },
        "id": "MQ_jReRAHOsw",
        "outputId": "e84c04cf-089a-4b1b-98e1-5efa01b6bbbc"
      },
      "execution_count": null,
      "outputs": [
        {
          "output_type": "stream",
          "name": "stdout",
          "text": [
            "<class 'bool'>\n",
            "<class 'str'>\n",
            "<class 'float'>\n",
            "<class 'str'>\n",
            "<class 'str'>\n",
            "<class 'str'>\n"
          ]
        }
      ]
    },
    {
      "cell_type": "code",
      "source": [
        "#4\n",
        "#converting to str\n",
        "num_lives = 5\n",
        "# num_lives = \"5\"\n",
        "str_num_lives = str(num_lives)\n",
        "print(type(num_lives))\n",
        "print(type(str(num_lives)))"
      ],
      "metadata": {
        "colab": {
          "base_uri": "https://localhost:8080/"
        },
        "id": "75Iu3pIMJD4M",
        "outputId": "7b37f3f3-f25c-46ba-b90e-00c1556c02d2"
      },
      "execution_count": null,
      "outputs": [
        {
          "output_type": "stream",
          "name": "stdout",
          "text": [
            "<class 'int'>\n",
            "<class 'str'>\n"
          ]
        }
      ]
    },
    {
      "cell_type": "code",
      "source": [
        "print(bool(0))\n",
        "print(bool(2))\n",
        "print(bool(0.1))\n",
        "print(bool(\"gczhvscz\"))\n",
        "print(bool(\"False\"))"
      ],
      "metadata": {
        "colab": {
          "base_uri": "https://localhost:8080/"
        },
        "id": "CESkP3OfKSaB",
        "outputId": "63f6e54d-047c-45e4-867d-467ecf6d14bd"
      },
      "execution_count": null,
      "outputs": [
        {
          "output_type": "stream",
          "name": "stdout",
          "text": [
            "False\n",
            "True\n",
            "True\n",
            "True\n",
            "True\n"
          ]
        }
      ]
    },
    {
      "cell_type": "code",
      "source": [
        "# not allowed print(int(\"jbcdb\"))\n",
        "print(int(\"1\"))\n",
        "print(int(0.5))\n",
        "print(int(False))\n",
        "print(int(True))"
      ],
      "metadata": {
        "colab": {
          "base_uri": "https://localhost:8080/"
        },
        "id": "51On9_onKuWp",
        "outputId": "421969eb-7af8-4779-b56e-907af90ca845"
      },
      "execution_count": null,
      "outputs": [
        {
          "output_type": "stream",
          "name": "stdout",
          "text": [
            "1\n",
            "0\n",
            "0\n",
            "1\n"
          ]
        }
      ]
    },
    {
      "cell_type": "code",
      "source": [
        "print(float(\"1\"))\n",
        "print(float(0.5))\n",
        "print(float(False))\n",
        "print(float(True))"
      ],
      "metadata": {
        "colab": {
          "base_uri": "https://localhost:8080/"
        },
        "id": "JuW7weSsLvki",
        "outputId": "f7393b5f-bae9-47d0-a63b-3e7254d6bfe9"
      },
      "execution_count": null,
      "outputs": [
        {
          "output_type": "stream",
          "name": "stdout",
          "text": [
            "1.0\n",
            "0.5\n",
            "0.0\n",
            "1.0\n"
          ]
        }
      ]
    },
    {
      "cell_type": "code",
      "source": [
        "health = 50\n",
        "new_health = health + 20\n",
        "print(health)\n",
        "health = health + 20\n",
        "print(health)\n",
        "\n",
        "xPos = 5\n",
        "print(xPos % 2)\n",
        "print(xPos // 2)\n",
        "print(xPos ** 2)\n",
        "print(xPos)\n",
        "\n",
        "first_name = \"Nimish\"\n",
        "last_name = \"Narang\"\n",
        "print(first_name + \" \" + last_name)"
      ],
      "metadata": {
        "colab": {
          "base_uri": "https://localhost:8080/"
        },
        "id": "dSETOFkd8wen",
        "outputId": "f9af9236-00f0-4f45-ee87-76ab1466bd4e"
      },
      "execution_count": null,
      "outputs": [
        {
          "output_type": "stream",
          "name": "stdout",
          "text": [
            "50\n",
            "70\n",
            "1\n",
            "2\n",
            "25\n",
            "5\n",
            "Nimish Narang\n"
          ]
        }
      ]
    },
    {
      "cell_type": "code",
      "source": [
        "health = 50\n",
        "health += 20\n",
        "health -= 50\n",
        "print(health)\n",
        "\n",
        "name = \"Nimish\"\n",
        "name += \" Narang\"\n",
        "print(name)"
      ],
      "metadata": {
        "colab": {
          "base_uri": "https://localhost:8080/"
        },
        "id": "q1X3X2DNFRBM",
        "outputId": "72801c67-c782-45cc-a31e-01a44069098f"
      },
      "execution_count": null,
      "outputs": [
        {
          "output_type": "stream",
          "name": "stdout",
          "text": [
            "20\n",
            "Nimish Narang\n"
          ]
        }
      ]
    },
    {
      "cell_type": "code",
      "source": [
        "# > >= < <= == !=\n",
        "result = 5 > 2\n",
        "print(result)\n",
        "print(type(result))\n",
        "print(5 == 2)\n",
        "print(5 != health)\n",
        "print(5.0 == 5)"
      ],
      "metadata": {
        "colab": {
          "base_uri": "https://localhost:8080/"
        },
        "id": "idFb1V9zIV6_",
        "outputId": "993b1ce8-e473-4e13-cc72-646922e9cf23"
      },
      "execution_count": null,
      "outputs": [
        {
          "output_type": "stream",
          "name": "stdout",
          "text": [
            "True\n",
            "<class 'bool'>\n",
            "False\n",
            "True\n",
            "True\n"
          ]
        }
      ]
    },
    {
      "cell_type": "code",
      "source": [
        "#More conditional operators\n",
        "a = \"a\"\n",
        "a_ = \"A\"\n",
        "print(True == False)\n",
        "print(first_name == last_name)\n",
        "print(a == a_)\n",
        "b = \"b\"\n",
        "print(a > b)\n",
        "print(5 > False)\n",
        "print(5 > True)\n",
        "print(1 > True)\n",
        "print(b == False)\n",
        "# print(b > 5) TypeError: '>' not supported between instances of 'str' and 'int'"
      ],
      "metadata": {
        "colab": {
          "base_uri": "https://localhost:8080/"
        },
        "id": "avGizxkcJpCV",
        "outputId": "5ef75059-a5cd-4a41-8b3d-65685d0dd263"
      },
      "execution_count": null,
      "outputs": [
        {
          "output_type": "stream",
          "name": "stdout",
          "text": [
            "False\n",
            "False\n",
            "False\n",
            "False\n",
            "True\n",
            "True\n",
            "False\n",
            "False\n"
          ]
        }
      ]
    },
    {
      "cell_type": "code",
      "source": [
        "#Logical Operators\n",
        "# not and or\n",
        "is_game_over = False\n",
        "is_game_over = not is_game_over\n",
        "print(is_game_over)\n",
        "health = 0\n",
        "lives = 1\n",
        "print(health <= 0 and lives <= 0)\n",
        "print(health <= 0 or lives <= 0)"
      ],
      "metadata": {
        "colab": {
          "base_uri": "https://localhost:8080/"
        },
        "id": "6otCqRlXLScB",
        "outputId": "49e33d11-dc26-49f4-d0c5-f39eddf6a17e"
      },
      "execution_count": null,
      "outputs": [
        {
          "output_type": "stream",
          "name": "stdout",
          "text": [
            "True\n",
            "False\n",
            "True\n"
          ]
        }
      ]
    },
    {
      "cell_type": "markdown",
      "source": [
        "List"
      ],
      "metadata": {
        "id": "lz-ZSHKIzIx_"
      }
    },
    {
      "cell_type": "code",
      "source": [
        "#List\n",
        "inventory = ['Sword', 'Bread', 'Boots']\n",
        "sword = inventory[0]\n",
        "print(sword)\n",
        "inventory[1] = 'Apples'\n",
        "print(inventory)"
      ],
      "metadata": {
        "colab": {
          "base_uri": "https://localhost:8080/"
        },
        "id": "CFND0rktzKIf",
        "outputId": "9ae09f9a-da63-40e4-c472-4df96650cb76"
      },
      "execution_count": null,
      "outputs": [
        {
          "output_type": "stream",
          "name": "stdout",
          "text": [
            "Sword\n",
            "['Sword', 'Apples', 'Boots']\n"
          ]
        }
      ]
    },
    {
      "cell_type": "code",
      "source": [
        "#List Functions\n",
        "inventory = ['Sword', 'Bread', 'Boots']\n",
        "print(len(inventory))\n",
        "print(max(inventory))\n",
        "print(min(inventory))\n",
        "\n",
        "inventory.append( 'Hat' )\n",
        "print(inventory)\n",
        "inventory.insert(0, 'Knife' )\n",
        "print(inventory)\n",
        "inventory.pop()\n",
        "print(inventory)\n",
        "inventory.remove( 'Sword' )\n",
        "print(inventory)\n",
        "inventory.clear()\n",
        "print(inventory)"
      ],
      "metadata": {
        "colab": {
          "base_uri": "https://localhost:8080/"
        },
        "id": "LCnERHRhzNiM",
        "outputId": "910bfa4f-8344-4119-fc31-0dc748d11ce0"
      },
      "execution_count": null,
      "outputs": [
        {
          "output_type": "stream",
          "name": "stdout",
          "text": [
            "3\n",
            "Sword\n",
            "Boots\n",
            "['Sword', 'Bread', 'Boots', 'Hat']\n",
            "['Knife', 'Sword', 'Bread', 'Boots', 'Hat']\n",
            "['Knife', 'Sword', 'Bread', 'Boots']\n",
            "['Knife', 'Bread', 'Boots']\n",
            "[]\n"
          ]
        }
      ]
    },
    {
      "cell_type": "code",
      "source": [
        "# 2D List\n",
        "universe = [[1, 2, 3],\n",
        "            [1, 2, 3, 4],\n",
        "            [1, 2],\n",
        "            [1, 2, 3]]\n",
        "ninth_world = universe[2][1]\n",
        "ninth_world = 5\n",
        "universe.append([1, 2, 3, 4, 5])\n",
        "universe[1].pop()\n",
        "print(universe)"
      ],
      "metadata": {
        "colab": {
          "base_uri": "https://localhost:8080/"
        },
        "id": "rEcalxlA2vgl",
        "outputId": "9dd25d78-b498-484b-99d2-b20eecda53ed"
      },
      "execution_count": null,
      "outputs": [
        {
          "output_type": "stream",
          "name": "stdout",
          "text": [
            "[[1, 2, 3], [1, 2, 3], [1, 2], [1, 2, 3], [1, 2, 3, 4, 5]]\n"
          ]
        }
      ]
    },
    {
      "cell_type": "code",
      "source": [
        "item = (\"Health Kit\", 4)\n",
        "name = item[0]\n",
        "print(name)\n",
        "# item[1] = 10\n",
        "item = (\"Knife\", 1)\n",
        "print(item)\n",
        "\n",
        "print(item.count('Knife'))\n",
        "print(item.index(1))\n",
        "\n",
        "item = (1, 2, 3)\n",
        "\n",
        "print(len(item))\n",
        "print(max(item))\n",
        "print(min(item))"
      ],
      "metadata": {
        "colab": {
          "base_uri": "https://localhost:8080/"
        },
        "id": "OB3W8Lsz76uB",
        "outputId": "92562bec-2fa7-4bfa-adec-a48c50434b3e"
      },
      "execution_count": null,
      "outputs": [
        {
          "output_type": "stream",
          "name": "stdout",
          "text": [
            "Health Kit\n",
            "('Knife', 1)\n",
            "1\n",
            "1\n",
            "3\n",
            "3\n",
            "1\n"
          ]
        }
      ]
    },
    {
      "cell_type": "code",
      "source": [
        "#Dictionnary\n",
        "inventory = {'Knife' : 1, 'Health Kit': 3, 'Wood' : 5}\n",
        "print(inventory['Health Kit'])\n",
        "inventory['Knife'] = 2\n",
        "print(inventory)\n",
        "inventory['Gold'] = 50\n",
        "print(inventory)"
      ],
      "metadata": {
        "colab": {
          "base_uri": "https://localhost:8080/"
        },
        "id": "mvZgefvrCbLQ",
        "outputId": "1e9d4c24-a98c-4201-b23b-0c3200d3f298"
      },
      "execution_count": null,
      "outputs": [
        {
          "output_type": "stream",
          "name": "stdout",
          "text": [
            "3\n",
            "{'Knife': 2, 'Health Kit': 3, 'Wood': 5}\n",
            "{'Knife': 2, 'Health Kit': 3, 'Wood': 5, 'Gold': 50}\n"
          ]
        }
      ]
    },
    {
      "cell_type": "code",
      "source": [
        "#Dictionary Functions\n",
        "inventory = {'Knife' : 1, 'Health Kit': 3, 'Wood' : 5}\n",
        "# print(inventory['Gold'])\n",
        "print(inventory.get('Gold'))\n",
        "print(inventory.keys())\n",
        "print(inventory.values())\n",
        "\n",
        "print(inventory.pop('Knife'))\n",
        "print(inventory)\n",
        "#inventory.clear()\n",
        "\n",
        "inventory['Apple'] = 10\n",
        "print(len(inventory))\n",
        "print(min(inventory))\n",
        "print(max(inventory))"
      ],
      "metadata": {
        "colab": {
          "base_uri": "https://localhost:8080/"
        },
        "id": "8pW5wynHFOAl",
        "outputId": "068aaee6-ab78-4c4e-e967-437434adf29a"
      },
      "execution_count": null,
      "outputs": [
        {
          "output_type": "stream",
          "name": "stdout",
          "text": [
            "None\n",
            "dict_keys(['Knife', 'Health Kit', 'Wood'])\n",
            "dict_values([1, 3, 5])\n",
            "1\n",
            "{'Health Kit': 3, 'Wood': 5}\n",
            "3\n",
            "Apple\n",
            "Wood\n"
          ]
        }
      ]
    },
    {
      "cell_type": "code",
      "source": [
        "#range\n",
        "# range(start, end, step)\n",
        "first_ten = range(10)\n",
        "print(first_ten[0])\n",
        "print(first_ten[9])\n",
        "\n",
        "first_ten = range(1, 11)\n",
        "print(first_ten[0])\n",
        "print(first_ten[9])\n",
        "\n",
        "print(list(range(1, 11, 2)))\n",
        "\n",
        "reversed_ten = reversed(first_ten)\n",
        "reversed_ten = list(reversed_ten)\n",
        "print(reversed_ten[0])\n",
        "print(reversed_ten)\n",
        "\n",
        "print(15 in first_ten)\n",
        "print(15 not in first_ten)"
      ],
      "metadata": {
        "colab": {
          "base_uri": "https://localhost:8080/"
        },
        "id": "s6X1CJlPJqPs",
        "outputId": "c608544b-58e1-4866-a141-b5f94a96b2ce"
      },
      "execution_count": null,
      "outputs": [
        {
          "output_type": "stream",
          "name": "stdout",
          "text": [
            "0\n",
            "9\n",
            "1\n",
            "10\n",
            "10\n",
            "[10, 9, 8, 7, 6, 5, 4, 3, 2, 1]\n",
            "False\n",
            "True\n"
          ]
        }
      ]
    },
    {
      "cell_type": "code",
      "source": [
        "# if, elif, else statements\n",
        "key_press = 'adsf'\n",
        "if key_press == 'r':\n",
        "  print('Move right')\n",
        "elif key_press == '1':\n",
        "  print('Move left')\n",
        "else:\n",
        "  print('Invalid key')\n",
        "\n",
        "command = 'Move right' if key_press == 'r' else 'Move left'"
      ],
      "metadata": {
        "colab": {
          "base_uri": "https://localhost:8080/"
        },
        "id": "IuY1Ytxnjbu4",
        "outputId": "0397dda1-035c-4659-d8e7-c31918193ccc"
      },
      "execution_count": null,
      "outputs": [
        {
          "output_type": "stream",
          "name": "stdout",
          "text": [
            "Invalid key\n"
          ]
        }
      ]
    },
    {
      "cell_type": "code",
      "source": [
        "#if statements variants\n",
        "num_lives = 3\n",
        "num_health_kits = 3\n",
        "health = 0\n",
        "if health <= 0 and num_health_kits <= 0:\n",
        "  num_lives -= 1\n",
        "  print('You lose a life!')\n",
        "  if num_lives <= 0:\n",
        "    print('You died!')\n",
        "elif health < 10:\n",
        "  print('Warning, less than 10% health!')\n",
        "elif health < 50:\n",
        "  print('Warning, less than 50% health!')"
      ],
      "metadata": {
        "colab": {
          "base_uri": "https://localhost:8080/"
        },
        "id": "sMShKKd9n71T",
        "outputId": "f638dc9e-6bb1-4573-cc10-fd40dfadb6ff"
      },
      "execution_count": null,
      "outputs": [
        {
          "output_type": "stream",
          "name": "stdout",
          "text": [
            "Warning, less than 10% health!\n"
          ]
        }
      ]
    },
    {
      "cell_type": "code",
      "source": [
        "# While loops\n",
        "x_pos = 0\n",
        "y_pos = 1\n",
        "end_pos = 5\n",
        "enemy_pos = 3\n",
        "while x_pos < end_pos:\n",
        "  x_pos += 1\n",
        "  print(x_pos)\n",
        "  if y_pos > 0:\n",
        "    continue\n",
        "  if x_pos == enemy_pos:\n",
        "    print(\"You collided with the enemy!\")\n",
        "    break\n",
        "print(\"Game Over!\")"
      ],
      "metadata": {
        "colab": {
          "base_uri": "https://localhost:8080/"
        },
        "id": "zQUdWAn2yeeT",
        "outputId": "eea7b36d-4c54-4118-bfb5-aa67ddb7a47e"
      },
      "execution_count": null,
      "outputs": [
        {
          "output_type": "stream",
          "name": "stdout",
          "text": [
            "1\n",
            "2\n",
            "3\n",
            "4\n",
            "5\n",
            "Game Over!\n"
          ]
        }
      ]
    },
    {
      "cell_type": "code",
      "source": [
        "# For loops\n",
        "\n",
        "#for var in range/list:\n",
        "#  code\n",
        "\n",
        "#our_range = range(1, 6)\n",
        "#for i in our_range:\n",
        "#  print(i)\n",
        "\n",
        "inventory = ['Boots', 'Arrows', 'Bow', 'Sword']\n",
        "#for item in inventory:\n",
        "#  print(item)\n",
        "\n",
        "#for i in range(4):\n",
        "#  print(inventory[i])\n",
        "#  if i == 1:\n",
        "#     break\n",
        "\n",
        "i = 0\n",
        "while i < len(inventory):\n",
        "  print(inventory[i])\n",
        "  i += 1"
      ],
      "metadata": {
        "colab": {
          "base_uri": "https://localhost:8080/"
        },
        "id": "jyydPUsMTdAE",
        "outputId": "3f2175a7-8e01-441b-aa57-318611d6e007"
      },
      "execution_count": null,
      "outputs": [
        {
          "output_type": "stream",
          "name": "stdout",
          "text": [
            "Boots\n",
            "Arrows\n",
            "Bow\n",
            "Sword\n"
          ]
        }
      ]
    },
    {
      "cell_type": "code",
      "source": [
        "# Functions\n",
        "x_pos = 0\n",
        "\n",
        "def move():\n",
        "  global x_pos\n",
        "  x_pos += 1\n",
        "\n",
        "move()\n",
        "# move()\n",
        "# move()\n",
        "print(x_pos)"
      ],
      "metadata": {
        "colab": {
          "base_uri": "https://localhost:8080/"
        },
        "id": "eXgC9nbUoaB1",
        "outputId": "f7f1a33f-6dab-42f3-ec1e-d8ad56554a5c"
      },
      "execution_count": null,
      "outputs": [
        {
          "output_type": "stream",
          "name": "stdout",
          "text": [
            "1\n"
          ]
        }
      ]
    },
    {
      "cell_type": "code",
      "source": [
        "x_pos = 0\n",
        "\n",
        "def move(by_amount=1):\n",
        "  global x_pos\n",
        "  x_pos += by_amount\n",
        "\n",
        "move(5)\n",
        "print(x_pos)"
      ],
      "metadata": {
        "colab": {
          "base_uri": "https://localhost:8080/"
        },
        "id": "iBUdttuiru-6",
        "outputId": "e8514002-e487-4a67-a419-5c959f101e28"
      },
      "execution_count": null,
      "outputs": [
        {
          "output_type": "stream",
          "name": "stdout",
          "text": [
            "5\n"
          ]
        }
      ]
    },
    {
      "cell_type": "code",
      "source": [
        "start_pos = 0\n",
        "end_pos = 10\n",
        "x_pos = 0\n",
        "\n",
        "def move(x_pos, by_amount=1):\n",
        "  global start_pos, end_pos\n",
        "  x_pos += by_amount\n",
        "  if x_pos < start_pos:\n",
        "     return start_pos\n",
        "  elif x_pos > end_pos:\n",
        "    return end_pos\n",
        "  return x_pos\n",
        "\n",
        "x_pos = move(x_pos, -15)\n",
        "print(x_pos)"
      ],
      "metadata": {
        "colab": {
          "base_uri": "https://localhost:8080/"
        },
        "id": "OSMYnHrVsfYR",
        "outputId": "cabbad03-0fcc-4ddd-dfcf-d2eb69b5d776"
      },
      "execution_count": null,
      "outputs": [
        {
          "output_type": "stream",
          "name": "stdout",
          "text": [
            "0\n"
          ]
        }
      ]
    },
    {
      "cell_type": "code",
      "source": [
        "# Class\n",
        "class GameCharacter:\n",
        "\n",
        "  speed = 1.0\n",
        "\n",
        "  def __init__(self, name, x_pos, health):\n",
        "    self.name = name\n",
        "    self.x_pos = x_pos\n",
        "    self.health = health\n",
        "\n",
        "  def move(self, by_amount):\n",
        "    self.x_pos += by_amount\n",
        "\n",
        "  def take_damage(self, amount):\n",
        "    self.health -= amount\n",
        "    if self.health < 0:\n",
        "      self.health = 0\n",
        "\n",
        "  def check_is_dead(self):\n",
        "    return self.health <= 0\n",
        "\n",
        "  def change_speed(to_speed):\n",
        "    GameCharacter.speed = to_speed\n"
      ],
      "metadata": {
        "id": "XLEftsJcwzC9"
      },
      "execution_count": 15,
      "outputs": []
    },
    {
      "cell_type": "code",
      "source": [
        "# objects\n",
        "game_character = GameCharacter('Nimish', 5, 100)\n",
        "other_character = GameCharacter('Other', 0, 50)\n",
        "#print(type(game_character))\n",
        "#print(game_character.name)\n",
        "#print(other_character.name)\n",
        "\n",
        "#game_character.name = \"asfsdsas\"\n",
        "#print(game_character.name)\n",
        "\n",
        "game_character.move(-2)\n",
        "print(game_character.x_pos)\n",
        "\n",
        "game_character.take_damage(200)\n",
        "print(game_character.health)\n",
        "print(game_character.check_is_dead())"
      ],
      "metadata": {
        "colab": {
          "base_uri": "https://localhost:8080/"
        },
        "id": "OTmofbvG2-Zf",
        "outputId": "6c06da4e-7830-4f3d-fdf8-40726d37e498"
      },
      "execution_count": 4,
      "outputs": [
        {
          "output_type": "stream",
          "name": "stdout",
          "text": [
            "3\n",
            "0\n",
            "True\n"
          ]
        }
      ]
    },
    {
      "cell_type": "code",
      "source": [
        "#inheritance\n",
        "\n",
        "#class subclass(superclass)\n",
        "class PlayerCharacter(GameCharacter):\n",
        "\n",
        "  def __init__(self, name, x_pos, health, num_lives):\n",
        "    super().__init__(name, x_pos, health)\n",
        "    self.max_health = health\n",
        "    self.num_lives = num_lives\n",
        "\n",
        "  def take_damage(self, amount):\n",
        "    self.health -= amount\n",
        "    if self.health < 0:\n",
        "      self.num_lives -= 1\n",
        "      self.health = self.max_health\n",
        "\n",
        "  def check_is_dead(self):\n",
        "    return self.health <= 0 and self.num_lives <= 0"
      ],
      "metadata": {
        "id": "YLErPMZk6b5F"
      },
      "execution_count": 5,
      "outputs": []
    },
    {
      "cell_type": "code",
      "source": [
        "pc = PlayerCharacter('Nimish', 0, 100, 3)\n",
        "gc = GameCharacter('Wolf', 0, 100)\n",
        "\n",
        "print(pc.max_health)\n",
        "#print(gc.max_health)\n",
        "\n",
        "pc.move(2)\n",
        "print(pc.x_pos)\n",
        "gc.move(2)\n",
        "print(gc.x_pos)\n",
        "\n",
        "pc.take_damage(150)\n",
        "gc.take_damage(150)\n",
        "print(pc.health)\n",
        "print(gc.health)\n",
        "\n",
        "print(pc.check_is_dead())\n",
        "print(gc.check_is_dead())"
      ],
      "metadata": {
        "colab": {
          "base_uri": "https://localhost:8080/"
        },
        "id": "veqBSxXaB6yn",
        "outputId": "0392588c-cc0b-4850-aec3-1d68d10d7b82"
      },
      "execution_count": 7,
      "outputs": [
        {
          "output_type": "stream",
          "name": "stdout",
          "text": [
            "100\n",
            "2\n",
            "2\n",
            "100\n",
            "0\n",
            "False\n",
            "True\n"
          ]
        }
      ]
    },
    {
      "cell_type": "code",
      "source": [
        "gc_1 = GameCharacter('Wolf', 0, 100)\n",
        "gc_2 = GameCharacter('Lion', 0, 150)\n",
        "\n",
        "#print(gc_1.speed)\n",
        "#print(gc_2.speed)\n",
        "\n",
        "#print(GameCharacter.speed)\n",
        "#GameCharacter.speed = 2.0\n",
        "GameCharacter.change_speed(4.0)\n",
        "\n",
        "print(gc_1.speed)\n",
        "print(gc_2.speed)"
      ],
      "metadata": {
        "colab": {
          "base_uri": "https://localhost:8080/"
        },
        "id": "CStAKlh8pQOV",
        "outputId": "eab83bc1-1f1b-44ce-88cb-00c01b317c2e"
      },
      "execution_count": 17,
      "outputs": [
        {
          "output_type": "stream",
          "name": "stdout",
          "text": [
            "4.0\n",
            "4.0\n"
          ]
        }
      ]
    }
  ]
}