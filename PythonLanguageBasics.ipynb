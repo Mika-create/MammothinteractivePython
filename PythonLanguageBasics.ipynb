{
  "nbformat": 4,
  "nbformat_minor": 0,
  "metadata": {
    "colab": {
      "provenance": [],
      "authorship_tag": "ABX9TyNGdMYwBqPv0iQyIkhxjw/+",
      "include_colab_link": true
    },
    "kernelspec": {
      "name": "python3",
      "display_name": "Python 3"
    },
    "language_info": {
      "name": "python"
    }
  },
  "cells": [
    {
      "cell_type": "markdown",
      "metadata": {
        "id": "view-in-github",
        "colab_type": "text"
      },
      "source": [
        "<a href=\"https://colab.research.google.com/github/Mika-create/MammothinteractivePython/blob/main/PythonLanguageBasics.ipynb\" target=\"_parent\"><img src=\"https://colab.research.google.com/assets/colab-badge.svg\" alt=\"Open In Colab\"/></a>"
      ]
    },
    {
      "cell_type": "code",
      "source": [
        "is_game_over = False\n",
        "print(is_game_over)\n",
        "is_game_over = True\n",
        "print(is_game_over)\n",
        "is_game_over = 5 > 6\n",
        "print(is_game_over)"
      ],
      "metadata": {
        "colab": {
          "base_uri": "https://localhost:8080/"
        },
        "id": "iYKtnXjVaaCu",
        "outputId": "ade0fa5d-24ba-45de-9d75-78c53464ebc0"
      },
      "execution_count": 2,
      "outputs": [
        {
          "output_type": "stream",
          "name": "stdout",
          "text": [
            "False\n",
            "True\n",
            "False\n"
          ]
        }
      ]
    },
    {
      "cell_type": "code",
      "source": [
        "num_lives = 5\n",
        "print(num_lives)\n",
        "percent_health = 0.5\n",
        "print(percent_health)"
      ],
      "metadata": {
        "colab": {
          "base_uri": "https://localhost:8080/"
        },
        "id": "P776gP-7GRCU",
        "outputId": "54b1edae-60a9-4f6e-a95c-ecf73483a662"
      },
      "execution_count": 4,
      "outputs": [
        {
          "output_type": "stream",
          "name": "stdout",
          "text": [
            "5\n",
            "0.5\n"
          ]
        }
      ]
    },
    {
      "cell_type": "code",
      "source": [
        "player_name = \"Nimish\"\n",
        "print(player_name)\n",
        "player_name = \"Mammoth\"\n",
        "print(player_name)"
      ],
      "metadata": {
        "colab": {
          "base_uri": "https://localhost:8080/"
        },
        "id": "pKYgqkwpGzWI",
        "outputId": "57926021-00ce-49ab-8f13-093c753a1281"
      },
      "execution_count": 5,
      "outputs": [
        {
          "output_type": "stream",
          "name": "stdout",
          "text": [
            "Nimish\n",
            "Mammoth\n"
          ]
        }
      ]
    },
    {
      "cell_type": "code",
      "source": [
        "print(type(is_game_over))\n",
        "print(type(num_lives))\n",
        "print(type(percent_health))\n",
        "print(type(player_name))\n",
        "\n",
        "num_lives = \"5\"\n",
        "print(type(num_lives))\n",
        "\n",
        "player_name = num_lives\n",
        "print(type(num_lives))"
      ],
      "metadata": {
        "colab": {
          "base_uri": "https://localhost:8080/"
        },
        "id": "MQ_jReRAHOsw",
        "outputId": "e84c04cf-089a-4b1b-98e1-5efa01b6bbbc"
      },
      "execution_count": 8,
      "outputs": [
        {
          "output_type": "stream",
          "name": "stdout",
          "text": [
            "<class 'bool'>\n",
            "<class 'str'>\n",
            "<class 'float'>\n",
            "<class 'str'>\n",
            "<class 'str'>\n",
            "<class 'str'>\n"
          ]
        }
      ]
    },
    {
      "cell_type": "code",
      "source": [
        "#4\n",
        "#converting to str\n",
        "num_lives = 5\n",
        "# num_lives = \"5\"\n",
        "str_num_lives = str(num_lives)\n",
        "print(type(num_lives))\n",
        "print(type(str(num_lives)))"
      ],
      "metadata": {
        "colab": {
          "base_uri": "https://localhost:8080/"
        },
        "id": "75Iu3pIMJD4M",
        "outputId": "7b37f3f3-f25c-46ba-b90e-00c1556c02d2"
      },
      "execution_count": 12,
      "outputs": [
        {
          "output_type": "stream",
          "name": "stdout",
          "text": [
            "<class 'int'>\n",
            "<class 'str'>\n"
          ]
        }
      ]
    },
    {
      "cell_type": "code",
      "source": [
        "print(bool(0))\n",
        "print(bool(2))\n",
        "print(bool(0.1))\n",
        "print(bool(\"gczhvscz\"))\n",
        "print(bool(\"False\"))"
      ],
      "metadata": {
        "colab": {
          "base_uri": "https://localhost:8080/"
        },
        "id": "CESkP3OfKSaB",
        "outputId": "63f6e54d-047c-45e4-867d-467ecf6d14bd"
      },
      "execution_count": 19,
      "outputs": [
        {
          "output_type": "stream",
          "name": "stdout",
          "text": [
            "False\n",
            "True\n",
            "True\n",
            "True\n",
            "True\n"
          ]
        }
      ]
    },
    {
      "cell_type": "code",
      "source": [
        "# not allowed print(int(\"jbcdb\"))\n",
        "print(int(\"1\"))\n",
        "print(int(0.5))\n",
        "print(int(False))\n",
        "print(int(True))"
      ],
      "metadata": {
        "colab": {
          "base_uri": "https://localhost:8080/"
        },
        "id": "51On9_onKuWp",
        "outputId": "421969eb-7af8-4779-b56e-907af90ca845"
      },
      "execution_count": 17,
      "outputs": [
        {
          "output_type": "stream",
          "name": "stdout",
          "text": [
            "1\n",
            "0\n",
            "0\n",
            "1\n"
          ]
        }
      ]
    },
    {
      "cell_type": "code",
      "source": [
        "print(float(\"1\"))\n",
        "print(float(0.5))\n",
        "print(float(False))\n",
        "print(float(True))"
      ],
      "metadata": {
        "colab": {
          "base_uri": "https://localhost:8080/"
        },
        "id": "JuW7weSsLvki",
        "outputId": "f7393b5f-bae9-47d0-a63b-3e7254d6bfe9"
      },
      "execution_count": 18,
      "outputs": [
        {
          "output_type": "stream",
          "name": "stdout",
          "text": [
            "1.0\n",
            "0.5\n",
            "0.0\n",
            "1.0\n"
          ]
        }
      ]
    },
    {
      "cell_type": "code",
      "source": [
        "health = 50\n",
        "new_health = health + 20\n",
        "print(health)\n",
        "health = health + 20\n",
        "print(health)\n",
        "\n",
        "xPos = 5\n",
        "print(xPos % 2)\n",
        "print(xPos // 2)\n",
        "print(xPos ** 2)\n",
        "print(xPos)\n",
        "\n",
        "first_name = \"Nimish\"\n",
        "last_name = \"Narang\"\n",
        "print(first_name + \" \" + last_name)"
      ],
      "metadata": {
        "colab": {
          "base_uri": "https://localhost:8080/"
        },
        "id": "dSETOFkd8wen",
        "outputId": "f9af9236-00f0-4f45-ee87-76ab1466bd4e"
      },
      "execution_count": 2,
      "outputs": [
        {
          "output_type": "stream",
          "name": "stdout",
          "text": [
            "50\n",
            "70\n",
            "1\n",
            "2\n",
            "25\n",
            "5\n",
            "Nimish Narang\n"
          ]
        }
      ]
    },
    {
      "cell_type": "code",
      "source": [
        "health = 50\n",
        "health += 20\n",
        "health -= 50\n",
        "print(health)\n",
        "\n",
        "name = \"Nimish\"\n",
        "name += \" Narang\"\n",
        "print(name)"
      ],
      "metadata": {
        "colab": {
          "base_uri": "https://localhost:8080/"
        },
        "id": "q1X3X2DNFRBM",
        "outputId": "72801c67-c782-45cc-a31e-01a44069098f"
      },
      "execution_count": 6,
      "outputs": [
        {
          "output_type": "stream",
          "name": "stdout",
          "text": [
            "20\n",
            "Nimish Narang\n"
          ]
        }
      ]
    },
    {
      "cell_type": "code",
      "source": [
        "# > >= < <= == !=\n",
        "result = 5 > 2\n",
        "print(result)\n",
        "print(type(result))\n",
        "print(5 == 2)\n",
        "print(5 != health)\n",
        "print(5.0 == 5)"
      ],
      "metadata": {
        "colab": {
          "base_uri": "https://localhost:8080/"
        },
        "id": "idFb1V9zIV6_",
        "outputId": "993b1ce8-e473-4e13-cc72-646922e9cf23"
      },
      "execution_count": 9,
      "outputs": [
        {
          "output_type": "stream",
          "name": "stdout",
          "text": [
            "True\n",
            "<class 'bool'>\n",
            "False\n",
            "True\n",
            "True\n"
          ]
        }
      ]
    },
    {
      "cell_type": "code",
      "source": [
        "#More conditional operators\n",
        "a = \"a\"\n",
        "a_ = \"A\"\n",
        "print(True == False)\n",
        "print(first_name == last_name)\n",
        "print(a == a_)\n",
        "b = \"b\"\n",
        "print(a > b)\n",
        "print(5 > False)\n",
        "print(5 > True)\n",
        "print(1 > True)\n",
        "print(b == False)\n",
        "# print(b > 5) TypeError: '>' not supported between instances of 'str' and 'int'"
      ],
      "metadata": {
        "colab": {
          "base_uri": "https://localhost:8080/"
        },
        "id": "avGizxkcJpCV",
        "outputId": "5ef75059-a5cd-4a41-8b3d-65685d0dd263"
      },
      "execution_count": 17,
      "outputs": [
        {
          "output_type": "stream",
          "name": "stdout",
          "text": [
            "False\n",
            "False\n",
            "False\n",
            "False\n",
            "True\n",
            "True\n",
            "False\n",
            "False\n"
          ]
        }
      ]
    },
    {
      "cell_type": "code",
      "source": [
        "#Logical Operators\n",
        "# not and or\n",
        "is_game_over = False\n",
        "is_game_over = not is_game_over\n",
        "print(is_game_over)\n",
        "health = 0\n",
        "lives = 1\n",
        "print(health <= 0 and lives <= 0)\n",
        "print(health <= 0 or lives <= 0)"
      ],
      "metadata": {
        "colab": {
          "base_uri": "https://localhost:8080/"
        },
        "id": "6otCqRlXLScB",
        "outputId": "49e33d11-dc26-49f4-d0c5-f39eddf6a17e"
      },
      "execution_count": 21,
      "outputs": [
        {
          "output_type": "stream",
          "name": "stdout",
          "text": [
            "True\n",
            "False\n",
            "True\n"
          ]
        }
      ]
    },
    {
      "cell_type": "markdown",
      "source": [
        "List"
      ],
      "metadata": {
        "id": "lz-ZSHKIzIx_"
      }
    },
    {
      "cell_type": "code",
      "source": [
        "inventory = ['Sword', 'Bread', 'Boots']\n",
        "sword = inventory[0]\n",
        "print(sword)\n",
        "inventory[1] = 'Apples'\n",
        "print(inventory)"
      ],
      "metadata": {
        "colab": {
          "base_uri": "https://localhost:8080/"
        },
        "id": "CFND0rktzKIf",
        "outputId": "9ae09f9a-da63-40e4-c472-4df96650cb76"
      },
      "execution_count": 25,
      "outputs": [
        {
          "output_type": "stream",
          "name": "stdout",
          "text": [
            "Sword\n",
            "['Sword', 'Apples', 'Boots']\n"
          ]
        }
      ]
    },
    {
      "cell_type": "code",
      "source": [
        "inventory = ['Sword', 'Bread', 'Boots']\n",
        "print(len(inventory))\n",
        "print(max(inventory))\n",
        "print(min(inventory))\n",
        "\n",
        "inventory.append( 'Hat' )\n",
        "print(inventory)\n",
        "inventory.insert(0, 'Knife' )\n",
        "print(inventory)\n",
        "inventory.pop()\n",
        "print(inventory)\n",
        "inventory.remove( 'Sword' )\n",
        "print(inventory)\n",
        "inventory.clear()\n",
        "print(inventory)"
      ],
      "metadata": {
        "colab": {
          "base_uri": "https://localhost:8080/"
        },
        "id": "LCnERHRhzNiM",
        "outputId": "910bfa4f-8344-4119-fc31-0dc748d11ce0"
      },
      "execution_count": 30,
      "outputs": [
        {
          "output_type": "stream",
          "name": "stdout",
          "text": [
            "3\n",
            "Sword\n",
            "Boots\n",
            "['Sword', 'Bread', 'Boots', 'Hat']\n",
            "['Knife', 'Sword', 'Bread', 'Boots', 'Hat']\n",
            "['Knife', 'Sword', 'Bread', 'Boots']\n",
            "['Knife', 'Bread', 'Boots']\n",
            "[]\n"
          ]
        }
      ]
    }
  ]
}